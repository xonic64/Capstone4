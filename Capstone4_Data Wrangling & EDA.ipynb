{
 "cells": [
  {
   "cell_type": "code",
   "execution_count": 5,
   "metadata": {},
   "outputs": [],
   "source": [
    "from torchvision import datasets\n",
    "import torchvision.transforms as transforms\n",
    "\n",
    "train_dir = './Raw_Data/skin-disease-datasaet/train_set'\n",
    "train_dataset = datasets.ImageFolder(root=train_dir,\n",
    "                            transform = transforms.ToTensor())"
   ]
  },
  {
   "cell_type": "code",
   "execution_count": 6,
   "metadata": {},
   "outputs": [
    {
     "data": {
      "text/plain": [
       "['BA- cellulitis',\n",
       " 'BA-impetigo',\n",
       " 'FU-athlete-foot',\n",
       " 'FU-nail-fungus',\n",
       " 'FU-ringworm',\n",
       " 'PA-cutaneous-larva-migrans',\n",
       " 'VI-chickenpox',\n",
       " 'VI-shingles']"
      ]
     },
     "execution_count": 6,
     "metadata": {},
     "output_type": "execute_result"
    }
   ],
   "source": [
    "train_dataset.classes"
   ]
  },
  {
   "cell_type": "code",
   "execution_count": 7,
   "metadata": {},
   "outputs": [
    {
     "data": {
      "text/plain": [
       "{'BA- cellulitis': 0,\n",
       " 'BA-impetigo': 1,\n",
       " 'FU-athlete-foot': 2,\n",
       " 'FU-nail-fungus': 3,\n",
       " 'FU-ringworm': 4,\n",
       " 'PA-cutaneous-larva-migrans': 5,\n",
       " 'VI-chickenpox': 6,\n",
       " 'VI-shingles': 7}"
      ]
     },
     "execution_count": 7,
     "metadata": {},
     "output_type": "execute_result"
    }
   ],
   "source": [
    "train_dataset.class_to_idx"
   ]
  }
 ],
 "metadata": {
  "kernelspec": {
   "display_name": "PyTorch",
   "language": "python",
   "name": "python3"
  },
  "language_info": {
   "codemirror_mode": {
    "name": "ipython",
    "version": 3
   },
   "file_extension": ".py",
   "mimetype": "text/x-python",
   "name": "python",
   "nbconvert_exporter": "python",
   "pygments_lexer": "ipython3",
   "version": "3.11.9"
  }
 },
 "nbformat": 4,
 "nbformat_minor": 2
}
